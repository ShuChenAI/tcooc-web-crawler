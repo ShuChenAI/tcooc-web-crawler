{
 "cells": [
  {
   "cell_type": "code",
   "id": "initial_id",
   "metadata": {
    "collapsed": true,
    "ExecuteTime": {
     "end_time": "2024-08-11T15:16:47.151696Z",
     "start_time": "2024-08-11T15:16:46.030511Z"
    }
   },
   "source": [
    "from glob import glob\n",
    "\n",
    "import pandas as pd\n",
    "\n",
    "data = []\n",
    "\n",
    "for file_path in glob('公司登記事宜/*.txt'):\n",
    "    with open(file_path, 'r', encoding='utf-8') as f:\n",
    "        lines = f.readlines()\n",
    "\n",
    "    question = lines[0].strip()\n",
    "    answer = ''.join(lines[1:]).strip()\n",
    "\n",
    "    data.append({\n",
    "        'question': question,\n",
    "        'answer': answer,\n",
    "    })"
   ],
   "outputs": [],
   "execution_count": 4
  },
  {
   "metadata": {
    "ExecuteTime": {
     "end_time": "2024-08-11T15:18:39.989135Z",
     "start_time": "2024-08-11T15:18:39.769103Z"
    }
   },
   "cell_type": "code",
   "source": "pd.DataFrame.from_records(data).to_excel('公司登記事宜.xlsx', index=False)",
   "id": "5eb5c6cb44d63a32",
   "outputs": [],
   "execution_count": 7
  },
  {
   "metadata": {
    "ExecuteTime": {
     "end_time": "2024-08-11T15:20:54.287842Z",
     "start_time": "2024-08-11T15:20:53.702672Z"
    }
   },
   "cell_type": "code",
   "source": [
    "data = []\n",
    "\n",
    "for file_path in glob('商業處業務資訊/*.txt'):\n",
    "    with open(file_path, 'r', encoding='utf-8') as f:\n",
    "        lines = f.readlines()\n",
    "\n",
    "    question = lines[0].strip()\n",
    "    answer = ''.join(lines[1:]).strip()\n",
    "\n",
    "    data.append({\n",
    "        'question': question,\n",
    "        'answer': answer,\n",
    "    })\n",
    "\n",
    "pd.DataFrame.from_records(data).to_excel('商業處業務資訊.xlsx', index=False)"
   ],
   "id": "1eebf383e778661f",
   "outputs": [],
   "execution_count": 8
  }
 ],
 "metadata": {
  "kernelspec": {
   "display_name": "Python 3",
   "language": "python",
   "name": "python3"
  },
  "language_info": {
   "codemirror_mode": {
    "name": "ipython",
    "version": 2
   },
   "file_extension": ".py",
   "mimetype": "text/x-python",
   "name": "python",
   "nbconvert_exporter": "python",
   "pygments_lexer": "ipython2",
   "version": "2.7.6"
  }
 },
 "nbformat": 4,
 "nbformat_minor": 5
}
